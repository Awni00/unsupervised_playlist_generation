{
 "cells": [
  {
   "cell_type": "code",
   "execution_count": 1,
   "metadata": {
    "tags": []
   },
   "outputs": [],
   "source": [
    "import processing"
   ]
  },
  {
   "cell_type": "markdown",
   "metadata": {},
   "source": [
    "Get Data for analysis"
   ]
  },
  {
   "cell_type": "code",
   "execution_count": 2,
   "metadata": {},
   "outputs": [],
   "source": [
    "sp = processing.init(scope='user-library-read')"
   ]
  },
  {
   "cell_type": "code",
   "execution_count": 3,
   "metadata": {
    "tags": []
   },
   "outputs": [],
   "source": [
    "tracks = sp.current_user_saved_tracks(limit=50, offset=0)"
   ]
  },
  {
   "cell_type": "code",
   "execution_count": 4,
   "metadata": {},
   "outputs": [
    {
     "output_type": "execute_result",
     "data": {
      "text/plain": "1486"
     },
     "metadata": {},
     "execution_count": 4
    }
   ],
   "source": [
    "tracks['total']"
   ]
  },
  {
   "cell_type": "code",
   "execution_count": 5,
   "metadata": {},
   "outputs": [],
   "source": [
    "tracks_features = processing.get_tracks_audio_features(tracks)"
   ]
  },
  {
   "cell_type": "code",
   "execution_count": 6,
   "metadata": {},
   "outputs": [],
   "source": [
    "import pandas as pd"
   ]
  },
  {
   "cell_type": "code",
   "execution_count": 7,
   "metadata": {},
   "outputs": [],
   "source": [
    "tracks_features_df = pd.DataFrame(data=tracks_features).set_index('id', drop=True)"
   ]
  },
  {
   "cell_type": "code",
   "execution_count": 8,
   "metadata": {},
   "outputs": [
    {
     "output_type": "execute_result",
     "data": {
      "text/plain": "                        danceability  energy  key  loudness  mode  \\\nid                                                                  \n2QaG8LwDIs9WYI8e0B6VPi         0.537  0.5350    3    -5.842     1   \n1HpjlU33hPxFR0Px0Vp2ka         0.322  0.3360    3    -8.049     1   \n4UADR6fNQfx4fxkiRQvSy2         0.483  0.6950    0    -5.493     1   \n1a1SQeSqUKzH5OUVTEx4ae         0.396  0.1770    5   -10.277     1   \n6tBv2nLRHBEmjVDOlxctbg         0.273  0.3080    3   -14.243     1   \n...                              ...     ...  ...       ...   ...   \n7ih16mauHrpUMOIeWEOyVO         0.539  0.0511    3   -16.503     1   \n6lvGthAouA0KfQ29tz4XAt         0.554  0.2260    3   -11.323     1   \n1BwBeG8Pae6uHp3w29AHvi         0.376  0.2190    0   -11.805     0   \n4JxNnZ2wf9t3KGnB0cIwRU         0.524  0.3410    9   -11.421     0   \n3uvsVUrAaGQJCTEUR1S3Sx         0.523  0.4220    3   -10.385     0   \n\n                        speechiness  acousticness  instrumentalness  liveness  \\\nid                                                                              \n2QaG8LwDIs9WYI8e0B6VPi       0.0284       0.03990          0.000033    0.0670   \n1HpjlU33hPxFR0Px0Vp2ka       0.0319       0.76900          0.484000    0.1050   \n4UADR6fNQfx4fxkiRQvSy2       0.0313       0.00461          0.000661    0.1020   \n1a1SQeSqUKzH5OUVTEx4ae       0.0378       0.71800          0.000000    0.1390   \n6tBv2nLRHBEmjVDOlxctbg       0.0311       0.94800          0.934000    0.0933   \n...                             ...           ...               ...       ...   \n7ih16mauHrpUMOIeWEOyVO       0.0588       0.98900          0.928000    0.1270   \n6lvGthAouA0KfQ29tz4XAt       0.0281       0.89100          0.032100    0.1070   \n1BwBeG8Pae6uHp3w29AHvi       0.0319       0.90400          0.019400    0.1080   \n4JxNnZ2wf9t3KGnB0cIwRU       0.0312       0.57100          0.282000    0.1060   \n3uvsVUrAaGQJCTEUR1S3Sx       0.0270       0.78300          0.005140    0.0898   \n\n                        valence    tempo  duration_ms  time_signature  \nid                                                                     \n2QaG8LwDIs9WYI8e0B6VPi   0.3240  117.895       313187               3  \n1HpjlU33hPxFR0Px0Vp2ka   0.0882  120.113       342347               3  \n4UADR6fNQfx4fxkiRQvSy2   0.2940  126.212       295333               4  \n1a1SQeSqUKzH5OUVTEx4ae   0.2210  177.215       201694               3  \n6tBv2nLRHBEmjVDOlxctbg   0.0387   79.847       213629               4  \n...                         ...      ...          ...             ...  \n7ih16mauHrpUMOIeWEOyVO   0.1350  179.994       274493               4  \n6lvGthAouA0KfQ29tz4XAt   0.2290  104.005       239880               4  \n1BwBeG8Pae6uHp3w29AHvi   0.1590  103.719       248333               4  \n4JxNnZ2wf9t3KGnB0cIwRU   0.2960   79.979       267123               4  \n3uvsVUrAaGQJCTEUR1S3Sx   0.1450  129.876       242060               4  \n\n[1486 rows x 13 columns]",
      "text/html": "<div>\n<style scoped>\n    .dataframe tbody tr th:only-of-type {\n        vertical-align: middle;\n    }\n\n    .dataframe tbody tr th {\n        vertical-align: top;\n    }\n\n    .dataframe thead th {\n        text-align: right;\n    }\n</style>\n<table border=\"1\" class=\"dataframe\">\n  <thead>\n    <tr style=\"text-align: right;\">\n      <th></th>\n      <th>danceability</th>\n      <th>energy</th>\n      <th>key</th>\n      <th>loudness</th>\n      <th>mode</th>\n      <th>speechiness</th>\n      <th>acousticness</th>\n      <th>instrumentalness</th>\n      <th>liveness</th>\n      <th>valence</th>\n      <th>tempo</th>\n      <th>duration_ms</th>\n      <th>time_signature</th>\n    </tr>\n    <tr>\n      <th>id</th>\n      <th></th>\n      <th></th>\n      <th></th>\n      <th></th>\n      <th></th>\n      <th></th>\n      <th></th>\n      <th></th>\n      <th></th>\n      <th></th>\n      <th></th>\n      <th></th>\n      <th></th>\n    </tr>\n  </thead>\n  <tbody>\n    <tr>\n      <th>2QaG8LwDIs9WYI8e0B6VPi</th>\n      <td>0.537</td>\n      <td>0.5350</td>\n      <td>3</td>\n      <td>-5.842</td>\n      <td>1</td>\n      <td>0.0284</td>\n      <td>0.03990</td>\n      <td>0.000033</td>\n      <td>0.0670</td>\n      <td>0.3240</td>\n      <td>117.895</td>\n      <td>313187</td>\n      <td>3</td>\n    </tr>\n    <tr>\n      <th>1HpjlU33hPxFR0Px0Vp2ka</th>\n      <td>0.322</td>\n      <td>0.3360</td>\n      <td>3</td>\n      <td>-8.049</td>\n      <td>1</td>\n      <td>0.0319</td>\n      <td>0.76900</td>\n      <td>0.484000</td>\n      <td>0.1050</td>\n      <td>0.0882</td>\n      <td>120.113</td>\n      <td>342347</td>\n      <td>3</td>\n    </tr>\n    <tr>\n      <th>4UADR6fNQfx4fxkiRQvSy2</th>\n      <td>0.483</td>\n      <td>0.6950</td>\n      <td>0</td>\n      <td>-5.493</td>\n      <td>1</td>\n      <td>0.0313</td>\n      <td>0.00461</td>\n      <td>0.000661</td>\n      <td>0.1020</td>\n      <td>0.2940</td>\n      <td>126.212</td>\n      <td>295333</td>\n      <td>4</td>\n    </tr>\n    <tr>\n      <th>1a1SQeSqUKzH5OUVTEx4ae</th>\n      <td>0.396</td>\n      <td>0.1770</td>\n      <td>5</td>\n      <td>-10.277</td>\n      <td>1</td>\n      <td>0.0378</td>\n      <td>0.71800</td>\n      <td>0.000000</td>\n      <td>0.1390</td>\n      <td>0.2210</td>\n      <td>177.215</td>\n      <td>201694</td>\n      <td>3</td>\n    </tr>\n    <tr>\n      <th>6tBv2nLRHBEmjVDOlxctbg</th>\n      <td>0.273</td>\n      <td>0.3080</td>\n      <td>3</td>\n      <td>-14.243</td>\n      <td>1</td>\n      <td>0.0311</td>\n      <td>0.94800</td>\n      <td>0.934000</td>\n      <td>0.0933</td>\n      <td>0.0387</td>\n      <td>79.847</td>\n      <td>213629</td>\n      <td>4</td>\n    </tr>\n    <tr>\n      <th>...</th>\n      <td>...</td>\n      <td>...</td>\n      <td>...</td>\n      <td>...</td>\n      <td>...</td>\n      <td>...</td>\n      <td>...</td>\n      <td>...</td>\n      <td>...</td>\n      <td>...</td>\n      <td>...</td>\n      <td>...</td>\n      <td>...</td>\n    </tr>\n    <tr>\n      <th>7ih16mauHrpUMOIeWEOyVO</th>\n      <td>0.539</td>\n      <td>0.0511</td>\n      <td>3</td>\n      <td>-16.503</td>\n      <td>1</td>\n      <td>0.0588</td>\n      <td>0.98900</td>\n      <td>0.928000</td>\n      <td>0.1270</td>\n      <td>0.1350</td>\n      <td>179.994</td>\n      <td>274493</td>\n      <td>4</td>\n    </tr>\n    <tr>\n      <th>6lvGthAouA0KfQ29tz4XAt</th>\n      <td>0.554</td>\n      <td>0.2260</td>\n      <td>3</td>\n      <td>-11.323</td>\n      <td>1</td>\n      <td>0.0281</td>\n      <td>0.89100</td>\n      <td>0.032100</td>\n      <td>0.1070</td>\n      <td>0.2290</td>\n      <td>104.005</td>\n      <td>239880</td>\n      <td>4</td>\n    </tr>\n    <tr>\n      <th>1BwBeG8Pae6uHp3w29AHvi</th>\n      <td>0.376</td>\n      <td>0.2190</td>\n      <td>0</td>\n      <td>-11.805</td>\n      <td>0</td>\n      <td>0.0319</td>\n      <td>0.90400</td>\n      <td>0.019400</td>\n      <td>0.1080</td>\n      <td>0.1590</td>\n      <td>103.719</td>\n      <td>248333</td>\n      <td>4</td>\n    </tr>\n    <tr>\n      <th>4JxNnZ2wf9t3KGnB0cIwRU</th>\n      <td>0.524</td>\n      <td>0.3410</td>\n      <td>9</td>\n      <td>-11.421</td>\n      <td>0</td>\n      <td>0.0312</td>\n      <td>0.57100</td>\n      <td>0.282000</td>\n      <td>0.1060</td>\n      <td>0.2960</td>\n      <td>79.979</td>\n      <td>267123</td>\n      <td>4</td>\n    </tr>\n    <tr>\n      <th>3uvsVUrAaGQJCTEUR1S3Sx</th>\n      <td>0.523</td>\n      <td>0.4220</td>\n      <td>3</td>\n      <td>-10.385</td>\n      <td>0</td>\n      <td>0.0270</td>\n      <td>0.78300</td>\n      <td>0.005140</td>\n      <td>0.0898</td>\n      <td>0.1450</td>\n      <td>129.876</td>\n      <td>242060</td>\n      <td>4</td>\n    </tr>\n  </tbody>\n</table>\n<p>1486 rows × 13 columns</p>\n</div>"
     },
     "metadata": {},
     "execution_count": 8
    }
   ],
   "source": [
    "tracks_features_df"
   ]
  },
  {
   "cell_type": "code",
   "execution_count": 9,
   "metadata": {},
   "outputs": [],
   "source": [
    "tracks_features_df.to_csv('tracks_features.csv')"
   ]
  }
 ],
 "metadata": {
  "language_info": {
   "codemirror_mode": {
    "name": "ipython",
    "version": 3
   },
   "file_extension": ".py",
   "mimetype": "text/x-python",
   "name": "python",
   "nbconvert_exporter": "python",
   "pygments_lexer": "ipython3",
   "version": 3
  },
  "orig_nbformat": 2,
  "kernelspec": {
   "name": "python_defaultSpec_1597108126534",
   "display_name": "Python 3.7.6 64-bit ('base': conda)"
  }
 },
 "nbformat": 4,
 "nbformat_minor": 2
}