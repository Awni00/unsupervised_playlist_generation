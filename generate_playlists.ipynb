{
 "metadata": {
  "language_info": {
   "codemirror_mode": {
    "name": "ipython",
    "version": 3
   },
   "file_extension": ".py",
   "mimetype": "text/x-python",
   "name": "python",
   "nbconvert_exporter": "python",
   "pygments_lexer": "ipython3",
   "version": 3
  },
  "orig_nbformat": 2,
  "kernelspec": {
   "name": "python_defaultSpec_1597198053777",
   "display_name": "Python 3.7.6 64-bit ('awnya': virtualenv)"
  }
 },
 "nbformat": 4,
 "nbformat_minor": 2,
 "cells": [
  {
   "cell_type": "code",
   "execution_count": 1,
   "metadata": {},
   "outputs": [],
   "source": [
    "import pandas as pd\n",
    "\n",
    "import processing"
   ]
  },
  {
   "cell_type": "code",
   "execution_count": 2,
   "metadata": {},
   "outputs": [],
   "source": [
    "tracks_cluster = pd.read_csv('tracks_features_clusters.csv', index_col=0)"
   ]
  },
  {
   "cell_type": "code",
   "execution_count": 3,
   "metadata": {},
   "outputs": [],
   "source": [
    "sp = processing.init(scope='playlist-modify-private')"
   ]
  },
  {
   "cell_type": "code",
   "execution_count": 4,
   "metadata": {},
   "outputs": [],
   "source": [
    "user_id = sp.current_user()['id']"
   ]
  },
  {
   "cell_type": "markdown",
   "metadata": {},
   "source": [
    "# Create Playlists for Birch Clustering"
   ]
  },
  {
   "cell_type": "code",
   "execution_count": 5,
   "metadata": {},
   "outputs": [
    {
     "output_type": "execute_result",
     "data": {
      "text/plain": "0    470\n1    469\n3    419\n2    128\nName: birch_cluster, dtype: int64"
     },
     "metadata": {},
     "execution_count": 5
    }
   ],
   "source": [
    "tracks_cluster.birch_cluster.value_counts()"
   ]
  },
  {
   "cell_type": "code",
   "execution_count": 6,
   "metadata": {},
   "outputs": [],
   "source": [
    "clusters = tracks_cluster.birch_cluster.unique()\n",
    "clusters.sort()"
   ]
  },
  {
   "cell_type": "code",
   "execution_count": 7,
   "metadata": {
    "tags": []
   },
   "outputs": [],
   "source": [
    "for cluster in clusters:\n",
    "    playlist_name = f'birch_{cluster}'\n",
    "    playlist = sp.user_playlist_create(user_id, playlist_name, public=False)\n",
    "    playlist_id = playlist['id']\n",
    "\n",
    "    filt = tracks_cluster.birch_cluster == cluster\n",
    "    track_ids = tracks_cluster.index[filt]\n",
    "\n",
    "    \n",
    "    tracks_done = 0\n",
    "\n",
    "    while len(track_ids) - tracks_done > 100:\n",
    "        sp.user_playlist_add_tracks(user_id, playlist_id, track_ids[tracks_done:tracks_done+100])\n",
    "        tracks_done += 100\n",
    "\n",
    "    sp.user_playlist_add_tracks(user_id, playlist_id, track_ids[tracks_done:])\n"
   ]
  }
 ]
}